{
 "cells": [
  {
   "cell_type": "markdown",
   "metadata": {},
   "source": [
    "# Quora Questions: Semantic Textual Similarity "
   ]
  },
  {
   "cell_type": "markdown",
   "metadata": {},
   "source": [
    "Quora is a place to gain and share knowledge about anything. It’s a platform to ask questions and connect with people who contribute unique insights and quality answers. This empowers people to learn from each other and to better understand the world. Given two questions, quantify the degree of similarity between the two text-based on Semantic similarity. Semantic Textual Similarity (STS) assesses the degree to which two sentences are semantically equivalent to each other. "
   ]
  },
  {
   "cell_type": "code",
   "execution_count": 460,
   "metadata": {},
   "outputs": [],
   "source": [
    "# Importing necessary libraries\n",
    "\n",
    "import re\n",
    "import nltk\n",
    "import pandas as pd \n",
    "import numpy as np\n",
    "import seaborn as sns \n",
    "import matplotlib.pyplot as plt \n",
    "\n",
    "import warnings \n",
    "warnings.filterwarnings(\"ignore\", category=DeprecationWarning)"
   ]
  },
  {
   "cell_type": "code",
   "execution_count": 461,
   "metadata": {},
   "outputs": [
    {
     "data": {
      "text/html": [
       "<div>\n",
       "<style scoped>\n",
       "    .dataframe tbody tr th:only-of-type {\n",
       "        vertical-align: middle;\n",
       "    }\n",
       "\n",
       "    .dataframe tbody tr th {\n",
       "        vertical-align: top;\n",
       "    }\n",
       "\n",
       "    .dataframe thead th {\n",
       "        text-align: right;\n",
       "    }\n",
       "</style>\n",
       "<table border=\"1\" class=\"dataframe\">\n",
       "  <thead>\n",
       "    <tr style=\"text-align: right;\">\n",
       "      <th></th>\n",
       "      <th>Question1</th>\n",
       "      <th>Question2</th>\n",
       "    </tr>\n",
       "  </thead>\n",
       "  <tbody>\n",
       "    <tr>\n",
       "      <td>63319</td>\n",
       "      <td>Do you want to travel?</td>\n",
       "      <td>Where do you want to travel?</td>\n",
       "    </tr>\n",
       "    <tr>\n",
       "      <td>286671</td>\n",
       "      <td>What are some whatspp hacks?</td>\n",
       "      <td>What are some awesome WhatsApp profile pictures?</td>\n",
       "    </tr>\n",
       "    <tr>\n",
       "      <td>99785</td>\n",
       "      <td>Can going to counseling keep me from joining t...</td>\n",
       "      <td>How much of an impact do paid internships have...</td>\n",
       "    </tr>\n",
       "    <tr>\n",
       "      <td>385135</td>\n",
       "      <td>What is it that girls look for in a guy?</td>\n",
       "      <td>What does a girl look for first in a guy?</td>\n",
       "    </tr>\n",
       "    <tr>\n",
       "      <td>301363</td>\n",
       "      <td>How do I get rank in CA final without studying?</td>\n",
       "      <td>How do I prepare for CA final examination?</td>\n",
       "    </tr>\n",
       "  </tbody>\n",
       "</table>\n",
       "</div>"
      ],
      "text/plain": [
       "                                                Question1  \\\n",
       "63319                              Do you want to travel?   \n",
       "286671                       What are some whatspp hacks?   \n",
       "99785   Can going to counseling keep me from joining t...   \n",
       "385135           What is it that girls look for in a guy?   \n",
       "301363    How do I get rank in CA final without studying?   \n",
       "\n",
       "                                                Question2  \n",
       "63319                        Where do you want to travel?  \n",
       "286671   What are some awesome WhatsApp profile pictures?  \n",
       "99785   How much of an impact do paid internships have...  \n",
       "385135          What does a girl look for first in a guy?  \n",
       "301363         How do I prepare for CA final examination?  "
      ]
     },
     "execution_count": 461,
     "metadata": {},
     "output_type": "execute_result"
    }
   ],
   "source": [
    "# Text Similarity Dataset\n",
    "\n",
    "data = pd.read_csv(r'C:\\Users\\Dell\\Desktop\\Quora_Dataset.csv')\n",
    "data=data.sample(frac=0.1) # Taking 10% of the dataset as it's quite large \n",
    "data.head()"
   ]
  },
  {
   "cell_type": "code",
   "execution_count": 462,
   "metadata": {},
   "outputs": [],
   "source": [
    "# Changing the column name as text1 & text2\n",
    "data.rename(columns={'Question1':'text1','Question2':'text2'},inplace=True)\n",
    "\n",
    "# Removing null rows \n",
    "data.dropna(axis=0,inplace=True)"
   ]
  },
  {
   "cell_type": "code",
   "execution_count": 463,
   "metadata": {},
   "outputs": [],
   "source": [
    "# check if sentence length is shorter than 3\n",
    "def check_rows(dataframe): \n",
    "    for index,words in enumerate(dataframe):\n",
    "        if len(words.split())<3:\n",
    "            dataframe[index]=np.nan"
   ]
  },
  {
   "cell_type": "code",
   "execution_count": 464,
   "metadata": {},
   "outputs": [
    {
     "data": {
      "text/plain": [
       "text1    0\n",
       "text2    0\n",
       "dtype: int64"
      ]
     },
     "execution_count": 464,
     "metadata": {},
     "output_type": "execute_result"
    }
   ],
   "source": [
    "# Replacing rows with np.nan if sentence length is shorter than 2                                     \n",
    "check_rows(data['text1'])\n",
    "check_rows(data['text2'])\n",
    "\n",
    "# Rows with replaced nan values\n",
    "data.isna().sum()"
   ]
  },
  {
   "cell_type": "code",
   "execution_count": 465,
   "metadata": {},
   "outputs": [],
   "source": [
    "# Removing null rows and finalizing the dataset \n",
    "data=data.dropna(axis=0).reset_index(drop=True)"
   ]
  },
  {
   "cell_type": "markdown",
   "metadata": {},
   "source": [
    "# Quick analysis of special characters, short length and stop words "
   ]
  },
  {
   "cell_type": "code",
   "execution_count": 466,
   "metadata": {},
   "outputs": [],
   "source": [
    "# Calculating '%' of stop words, numbers & special characters and shorter length words\n",
    "\n",
    "def calculate(check_df,main_df):\n",
    "    try:\n",
    "        return round(len(check_df.split())/len(main_df.split())*100,2)\n",
    "    except ValueError:\n",
    "        print('Nature of Error: Zero division error')\n",
    "\n",
    "# Importing stopwords from NLTK\n",
    "        \n",
    "from nltk.corpus import stopwords\n",
    "stop=stopwords.words('english')\n",
    "#Adding missing stop words\n",
    "stop.extend(['ought','isnt','are','arent','can','cant','dont','didnt','could','couldnt','will','wouldnt','need','must',\n",
    "             'mustnt','shouldnt','werent','might','havent','doesnt','aint','wasnt','hadnt','hasnt','might'])\n",
    "        \n",
    "# Removing \" ' \" from stopwords\n",
    "# For instance Doesn't will become Doesnt\n",
    "    \n",
    "stopwords=[]\n",
    "for word in stop:\n",
    "    word=re.sub(\"'\",\"\",word)\n",
    "    stopwords.append(word.lower())"
   ]
  },
  {
   "cell_type": "code",
   "execution_count": 467,
   "metadata": {},
   "outputs": [
    {
     "data": {
      "text/html": [
       "<div>\n",
       "<style scoped>\n",
       "    .dataframe tbody tr th:only-of-type {\n",
       "        vertical-align: middle;\n",
       "    }\n",
       "\n",
       "    .dataframe tbody tr th {\n",
       "        vertical-align: top;\n",
       "    }\n",
       "\n",
       "    .dataframe thead th {\n",
       "        text-align: right;\n",
       "    }\n",
       "</style>\n",
       "<table border=\"1\" class=\"dataframe\">\n",
       "  <thead>\n",
       "    <tr style=\"text-align: right;\">\n",
       "      <th></th>\n",
       "      <th>Unique_ID</th>\n",
       "      <th>stopwords_text1  (%)</th>\n",
       "      <th>stopwords_text2  (%)</th>\n",
       "      <th>special_characters_text1  (%)</th>\n",
       "      <th>special_characters_text2  (%)</th>\n",
       "      <th>short_length_text1  (%)</th>\n",
       "      <th>short_length_text2  (%)</th>\n",
       "    </tr>\n",
       "  </thead>\n",
       "  <tbody>\n",
       "    <tr>\n",
       "      <td>0</td>\n",
       "      <td>0</td>\n",
       "      <td>60.00</td>\n",
       "      <td>66.67</td>\n",
       "      <td>20.00</td>\n",
       "      <td>16.67</td>\n",
       "      <td>40.00</td>\n",
       "      <td>33.33</td>\n",
       "    </tr>\n",
       "    <tr>\n",
       "      <td>1</td>\n",
       "      <td>1</td>\n",
       "      <td>60.00</td>\n",
       "      <td>42.86</td>\n",
       "      <td>20.00</td>\n",
       "      <td>14.29</td>\n",
       "      <td>0.00</td>\n",
       "      <td>0.00</td>\n",
       "    </tr>\n",
       "    <tr>\n",
       "      <td>2</td>\n",
       "      <td>2</td>\n",
       "      <td>50.00</td>\n",
       "      <td>50.00</td>\n",
       "      <td>10.00</td>\n",
       "      <td>8.33</td>\n",
       "      <td>20.00</td>\n",
       "      <td>33.33</td>\n",
       "    </tr>\n",
       "    <tr>\n",
       "      <td>3</td>\n",
       "      <td>3</td>\n",
       "      <td>70.00</td>\n",
       "      <td>60.00</td>\n",
       "      <td>10.00</td>\n",
       "      <td>10.00</td>\n",
       "      <td>40.00</td>\n",
       "      <td>30.00</td>\n",
       "    </tr>\n",
       "    <tr>\n",
       "      <td>4</td>\n",
       "      <td>4</td>\n",
       "      <td>40.00</td>\n",
       "      <td>50.00</td>\n",
       "      <td>10.00</td>\n",
       "      <td>12.50</td>\n",
       "      <td>40.00</td>\n",
       "      <td>37.50</td>\n",
       "    </tr>\n",
       "    <tr>\n",
       "      <td>5</td>\n",
       "      <td>5</td>\n",
       "      <td>33.33</td>\n",
       "      <td>45.45</td>\n",
       "      <td>11.11</td>\n",
       "      <td>9.09</td>\n",
       "      <td>11.11</td>\n",
       "      <td>18.18</td>\n",
       "    </tr>\n",
       "    <tr>\n",
       "      <td>6</td>\n",
       "      <td>6</td>\n",
       "      <td>50.00</td>\n",
       "      <td>46.67</td>\n",
       "      <td>8.33</td>\n",
       "      <td>6.67</td>\n",
       "      <td>25.00</td>\n",
       "      <td>26.67</td>\n",
       "    </tr>\n",
       "    <tr>\n",
       "      <td>7</td>\n",
       "      <td>7</td>\n",
       "      <td>60.00</td>\n",
       "      <td>54.55</td>\n",
       "      <td>10.00</td>\n",
       "      <td>9.09</td>\n",
       "      <td>50.00</td>\n",
       "      <td>36.36</td>\n",
       "    </tr>\n",
       "    <tr>\n",
       "      <td>8</td>\n",
       "      <td>8</td>\n",
       "      <td>35.29</td>\n",
       "      <td>42.86</td>\n",
       "      <td>17.65</td>\n",
       "      <td>21.43</td>\n",
       "      <td>17.65</td>\n",
       "      <td>35.71</td>\n",
       "    </tr>\n",
       "    <tr>\n",
       "      <td>9</td>\n",
       "      <td>9</td>\n",
       "      <td>43.48</td>\n",
       "      <td>34.78</td>\n",
       "      <td>17.39</td>\n",
       "      <td>21.74</td>\n",
       "      <td>21.74</td>\n",
       "      <td>17.39</td>\n",
       "    </tr>\n",
       "  </tbody>\n",
       "</table>\n",
       "</div>"
      ],
      "text/plain": [
       "   Unique_ID  stopwords_text1  (%)  stopwords_text2  (%)  \\\n",
       "0          0                 60.00                 66.67   \n",
       "1          1                 60.00                 42.86   \n",
       "2          2                 50.00                 50.00   \n",
       "3          3                 70.00                 60.00   \n",
       "4          4                 40.00                 50.00   \n",
       "5          5                 33.33                 45.45   \n",
       "6          6                 50.00                 46.67   \n",
       "7          7                 60.00                 54.55   \n",
       "8          8                 35.29                 42.86   \n",
       "9          9                 43.48                 34.78   \n",
       "\n",
       "   special_characters_text1  (%)  special_characters_text2  (%)  \\\n",
       "0                          20.00                          16.67   \n",
       "1                          20.00                          14.29   \n",
       "2                          10.00                           8.33   \n",
       "3                          10.00                          10.00   \n",
       "4                          10.00                          12.50   \n",
       "5                          11.11                           9.09   \n",
       "6                           8.33                           6.67   \n",
       "7                          10.00                           9.09   \n",
       "8                          17.65                          21.43   \n",
       "9                          17.39                          21.74   \n",
       "\n",
       "   short_length_text1  (%)  short_length_text2  (%)  \n",
       "0                    40.00                    33.33  \n",
       "1                     0.00                     0.00  \n",
       "2                    20.00                    33.33  \n",
       "3                    40.00                    30.00  \n",
       "4                    40.00                    37.50  \n",
       "5                    11.11                    18.18  \n",
       "6                    25.00                    26.67  \n",
       "7                    50.00                    36.36  \n",
       "8                    17.65                    35.71  \n",
       "9                    21.74                    17.39  "
      ]
     },
     "execution_count": 467,
     "metadata": {},
     "output_type": "execute_result"
    }
   ],
   "source": [
    "# Finding out stopwords, special characters and short length words \n",
    "\n",
    "stop1 = data['text1'].apply(lambda x: ' '.join([word for word in x.split() if word.lower() in stopwords]))\n",
    "stop2 = data['text2'].apply(lambda x: ' '.join([word for word in x.split() if word.lower() in stopwords]))\n",
    "\n",
    "char1 = data['text1'].str.replace(\"[0-9a-zA-Z]\",\" \")\n",
    "char2 = data['text2'].str.replace(\"[0-9a-zA-Z]\",\" \")\n",
    "\n",
    "short1 = data['text1'].apply(lambda x: ' '.join([word for word in x.split() if len(word)<3]))\n",
    "short2 = data['text2'].apply(lambda x: ' '.join([word for word in x.split() if len(word)<3]))\n",
    "\n",
    "# Results will be appended in these empty lists\n",
    "\n",
    "special_characters_text1 = []\n",
    "special_characters_text2 = []\n",
    "stop_words_text1 = []\n",
    "stop_words_text2 = []\n",
    "short_length_text1 = []\n",
    "short_length_text2 = []\n",
    "\n",
    "ID = []\n",
    "    \n",
    "for i in range(len(data['text1'])):\n",
    "\n",
    "    stop_words_text1.append(calculate(stop1[i],data['text1'][i]))\n",
    "    special_characters_text1.append(calculate(char1[i],data['text1'][i]))\n",
    "    short_length_text1.append(calculate(short1[i],data['text1'][i]))\n",
    "    ID.append(i)   \n",
    "    \n",
    "for i in range(len(data['text2'])):\n",
    "    stop_words_text2.append(calculate(stop2[i],data['text2'][i]))\n",
    "    special_characters_text2.append(calculate(char2[i],data['text2'][i]))\n",
    "    short_length_text2.append(calculate(short2[i],data['text2'][i]))  \n",
    "    \n",
    "# Creating a dictionary with the above values\n",
    "                              \n",
    "data_dict = { 'Unique_ID': ID,'stopwords_text1  (%)': stop_words_text1,\n",
    "              'stopwords_text2  (%)': stop_words_text2,\n",
    "              'special_characters_text1  (%)': special_characters_text1,\n",
    "              'special_characters_text2  (%)': special_characters_text2,\n",
    "              'short_length_text1  (%)': short_length_text1,\n",
    "              'short_length_text2  (%)': short_length_text2}                              \n",
    "\n",
    "# creating a combined dataframe \n",
    "\n",
    "data_combined = pd.DataFrame(data_dict)  \n",
    "\n",
    "data_combined.head(10)"
   ]
  },
  {
   "cell_type": "markdown",
   "metadata": {},
   "source": [
    "# Data Cleaning: Removing special characters,numbers and stop words"
   ]
  },
  {
   "cell_type": "code",
   "execution_count": 468,
   "metadata": {},
   "outputs": [],
   "source": [
    "# Removing special characters from text1 and text2 as they hold no significance \n",
    "\n",
    "data['text1'] = data['text1'].str.replace(\"[^a-zA-Z]\",\" \")\n",
    "data['text2'] = data['text2'].str.replace(\"[^a-zA-Z]\",\" \")\n",
    "\n",
    "# Removing stopwords using nltk library\n",
    "# Adding a few missing stopwords to the 'stopwords list' \n",
    "# using ' '.join otherwise x.split() would tokenize the dataframe\n",
    "\n",
    "data['text1'] = data['text1'].apply(lambda x: ' '.join([word for word in x.split() if word.lower() not in stopwords]))\n",
    "data['text2'] = data['text2'].apply(lambda x: ' '.join([word for word in x.split() if word.lower() not in stopwords]))"
   ]
  },
  {
   "cell_type": "markdown",
   "metadata": {},
   "source": [
    "# Pre-processing: Tokenization and Lemmatization "
   ]
  },
  {
   "cell_type": "code",
   "execution_count": 469,
   "metadata": {},
   "outputs": [],
   "source": [
    "# Tokenization is the process of splitting a string of text into tokens\n",
    "\n",
    "text1_tokenized = data['text1'].apply(lambda x: x.split())\n",
    "text2_tokenized = data['text2'].apply(lambda x: x.split())"
   ]
  },
  {
   "cell_type": "code",
   "execution_count": 471,
   "metadata": {},
   "outputs": [],
   "source": [
    "# Lemmatization is the process of grouping words into their root form\n",
    "\n",
    "from nltk.stem import WordNetLemmatizer\n",
    "lemmatizer = WordNetLemmatizer()\n",
    "\n",
    "data['text1'] = text1_tokenized.apply(lambda x: [lemmatizer.lemmatize(word) for word in x])\n",
    "data['text2'] = text2_tokenized.apply(lambda x: [lemmatizer.lemmatize(word) for word in x])\n",
    "\n",
    "# Removing words with word length less than 2\n",
    "# using ' '.join otherwise x.split() would tokenize the dataframe \n",
    "\n",
    "data['text1'] = data['text1'].apply(lambda x: ' '.join([word for word in x if len(word)>2]))\n",
    "data['text2'] = data['text2'].apply(lambda x: ' '.join([word for word in x if len(word)>2]))"
   ]
  },
  {
   "cell_type": "code",
   "execution_count": 473,
   "metadata": {},
   "outputs": [
    {
     "data": {
      "text/html": [
       "<div>\n",
       "<style scoped>\n",
       "    .dataframe tbody tr th:only-of-type {\n",
       "        vertical-align: middle;\n",
       "    }\n",
       "\n",
       "    .dataframe tbody tr th {\n",
       "        vertical-align: top;\n",
       "    }\n",
       "\n",
       "    .dataframe thead th {\n",
       "        text-align: right;\n",
       "    }\n",
       "</style>\n",
       "<table border=\"1\" class=\"dataframe\">\n",
       "  <thead>\n",
       "    <tr style=\"text-align: right;\">\n",
       "      <th></th>\n",
       "      <th>text1</th>\n",
       "      <th>text2</th>\n",
       "    </tr>\n",
       "  </thead>\n",
       "  <tbody>\n",
       "    <tr>\n",
       "      <td>0</td>\n",
       "      <td>want travel</td>\n",
       "      <td>want travel</td>\n",
       "    </tr>\n",
       "    <tr>\n",
       "      <td>1</td>\n",
       "      <td>whatspp hack</td>\n",
       "      <td>awesome WhatsApp profile picture</td>\n",
       "    </tr>\n",
       "    <tr>\n",
       "      <td>2</td>\n",
       "      <td>going counseling keep joining military</td>\n",
       "      <td>much impact paid internship income diversity</td>\n",
       "    </tr>\n",
       "    <tr>\n",
       "      <td>3</td>\n",
       "      <td>girl look guy</td>\n",
       "      <td>girl look first guy</td>\n",
       "    </tr>\n",
       "    <tr>\n",
       "      <td>4</td>\n",
       "      <td>get rank final without studying</td>\n",
       "      <td>prepare final examination</td>\n",
       "    </tr>\n",
       "  </tbody>\n",
       "</table>\n",
       "</div>"
      ],
      "text/plain": [
       "                                    text1  \\\n",
       "0                             want travel   \n",
       "1                            whatspp hack   \n",
       "2  going counseling keep joining military   \n",
       "3                           girl look guy   \n",
       "4         get rank final without studying   \n",
       "\n",
       "                                          text2  \n",
       "0                                   want travel  \n",
       "1              awesome WhatsApp profile picture  \n",
       "2  much impact paid internship income diversity  \n",
       "3                           girl look first guy  \n",
       "4                     prepare final examination  "
      ]
     },
     "execution_count": 473,
     "metadata": {},
     "output_type": "execute_result"
    }
   ],
   "source": [
    "# Updated/Cleaned dataset\n",
    "\n",
    "data.head()"
   ]
  },
  {
   "cell_type": "markdown",
   "metadata": {},
   "source": [
    "# Visualization of the most frequent words"
   ]
  },
  {
   "cell_type": "code",
   "execution_count": 474,
   "metadata": {},
   "outputs": [],
   "source": [
    "from nltk.probability import FreqDist\n",
    "\n",
    "# Appending the complete dataframe into a single paragraph\n",
    "# By doing so we can determine the most common words based on their occurences\n",
    "\n",
    "paragraph_text1 = []\n",
    "paragraph_text2 = []\n",
    "\n",
    "for sentence in data['text1']: # for text1\n",
    "    paragraph_text1.append(sentence)\n",
    "\n",
    "for sentence in data['text2']: # for text2\n",
    "    paragraph_text2.append(sentence)\n",
    "\n",
    "paragraph_text1 = ' '.join(paragraph_text1)\n",
    "paragraph_text2 = ' '.join(paragraph_text2)    "
   ]
  },
  {
   "cell_type": "code",
   "execution_count": 475,
   "metadata": {},
   "outputs": [],
   "source": [
    "# Tokenizing the paragraphs and Determining frequency for each word: Text1\n",
    "\n",
    "frequent_words_text1 =  FreqDist()\n",
    "\n",
    "for word in nltk.word_tokenize(paragraph_text1):\n",
    "    frequent_words_text1[word.lower()]+=1"
   ]
  },
  {
   "cell_type": "code",
   "execution_count": 476,
   "metadata": {},
   "outputs": [],
   "source": [
    "# Tokenizing the paragraphs and Determining frequency for each word: Text2\n",
    "\n",
    "frequent_words_text2 =  FreqDist()\n",
    "    \n",
    "for word in nltk.word_tokenize(paragraph_text2):   \n",
    "    frequent_words_text2[word.lower()]+=1"
   ]
  },
  {
   "cell_type": "code",
   "execution_count": 481,
   "metadata": {},
   "outputs": [
    {
     "data": {
      "image/png": "[encoded data removed]",
      "text/plain": [
       "<Figure size 1800x864 with 1 Axes>"
      ]
     },
     "metadata": {
      "needs_background": "light"
     },
     "output_type": "display_data"
    }
   ],
   "source": [
    "# Creating a pandas dataframe and using seaborn for a barplot: Top 50 words\n",
    "\n",
    "df = pd.DataFrame({'Word': [word for word in frequent_words_text1.keys()],\n",
    "                   'Count': [count for count in frequent_words_text1.values()]})\n",
    "\n",
    "df = df.nlargest(columns='Count',n=50)\n",
    "\n",
    "# Count plot of Text 1\n",
    "\n",
    "plt.figure(figsize=(25,12))\n",
    "sns.barplot(data=df, x= \"Word\", y = \"Count\")\n",
    "plt.title('Frequent Words (Text 1)',fontsize=25)\n",
    "plt.xticks(rotation=90,fontsize=18)\n",
    "plt.yticks(fontsize=18)\n",
    "plt.xlabel('Word',fontsize=18)\n",
    "plt.ylabel('Count',fontsize=18)\n",
    "sns.barplot(data=df, x= \"Word\", y = \"Count\")\n",
    "plt.show()"
   ]
  },
  {
   "cell_type": "code",
   "execution_count": 482,
   "metadata": {},
   "outputs": [
    {
     "data": {
      "image/png": "[encoded data removed]",
      "text/plain": [
       "<Figure size 1800x864 with 1 Axes>"
      ]
     },
     "metadata": {
      "needs_background": "light"
     },
     "output_type": "display_data"
    }
   ],
   "source": [
    "# Creating a pandas dataframe for Text 2 \n",
    "\n",
    "df = pd.DataFrame({'Word': [word for word in frequent_words_text2.keys()],\n",
    "                   'Count': [count for count in frequent_words_text2.values()]})\n",
    "\n",
    "df = df.nlargest(columns='Count',n=50)\n",
    "\n",
    "# Count plot of Text 2: Top 50 words\n",
    "\n",
    "plt.figure(figsize=(25,12))\n",
    "plt.xticks(rotation=90,fontsize=18)\n",
    "plt.title('Frequent Words (Text 2)',fontsize=25)\n",
    "plt.yticks(fontsize=18)\n",
    "plt.xlabel('Word',fontsize=18)\n",
    "plt.ylabel('Count',fontsize=18)\n",
    "sns.barplot(data=df, x= \"Word\", y = \"Count\")\n",
    "plt.show()"
   ]
  },
  {
   "cell_type": "markdown",
   "metadata": {},
   "source": [
    "# Model Building (unsupervised learning)"
   ]
  },
  {
   "cell_type": "code",
   "execution_count": 483,
   "metadata": {},
   "outputs": [],
   "source": [
    "# Doc2Vec is an unsupervised, deep learning technique\n",
    "\n",
    "import gensim \n",
    "from gensim.models.doc2vec import TaggedDocument\n",
    "from gensim.models import Doc2Vec "
   ]
  },
  {
   "cell_type": "code",
   "execution_count": 484,
   "metadata": {},
   "outputs": [
    {
     "data": {
      "text/html": [
       "<div>\n",
       "<style scoped>\n",
       "    .dataframe tbody tr th:only-of-type {\n",
       "        vertical-align: middle;\n",
       "    }\n",
       "\n",
       "    .dataframe tbody tr th {\n",
       "        vertical-align: top;\n",
       "    }\n",
       "\n",
       "    .dataframe thead th {\n",
       "        text-align: right;\n",
       "    }\n",
       "</style>\n",
       "<table border=\"1\" class=\"dataframe\">\n",
       "  <thead>\n",
       "    <tr style=\"text-align: right;\">\n",
       "      <th></th>\n",
       "      <th>text1</th>\n",
       "      <th>text2</th>\n",
       "      <th>ID_text1</th>\n",
       "      <th>ID_text2</th>\n",
       "    </tr>\n",
       "  </thead>\n",
       "  <tbody>\n",
       "    <tr>\n",
       "      <td>0</td>\n",
       "      <td>want travel</td>\n",
       "      <td>want travel</td>\n",
       "      <td>0</td>\n",
       "      <td>0</td>\n",
       "    </tr>\n",
       "    <tr>\n",
       "      <td>1</td>\n",
       "      <td>whatspp hack</td>\n",
       "      <td>awesome WhatsApp profile picture</td>\n",
       "      <td>1</td>\n",
       "      <td>1</td>\n",
       "    </tr>\n",
       "    <tr>\n",
       "      <td>2</td>\n",
       "      <td>going counseling keep joining military</td>\n",
       "      <td>much impact paid internship income diversity</td>\n",
       "      <td>2</td>\n",
       "      <td>2</td>\n",
       "    </tr>\n",
       "    <tr>\n",
       "      <td>3</td>\n",
       "      <td>girl look guy</td>\n",
       "      <td>girl look first guy</td>\n",
       "      <td>3</td>\n",
       "      <td>3</td>\n",
       "    </tr>\n",
       "    <tr>\n",
       "      <td>4</td>\n",
       "      <td>get rank final without studying</td>\n",
       "      <td>prepare final examination</td>\n",
       "      <td>4</td>\n",
       "      <td>4</td>\n",
       "    </tr>\n",
       "  </tbody>\n",
       "</table>\n",
       "</div>"
      ],
      "text/plain": [
       "                                    text1  \\\n",
       "0                             want travel   \n",
       "1                            whatspp hack   \n",
       "2  going counseling keep joining military   \n",
       "3                           girl look guy   \n",
       "4         get rank final without studying   \n",
       "\n",
       "                                          text2  ID_text1  ID_text2  \n",
       "0                                   want travel         0         0  \n",
       "1              awesome WhatsApp profile picture         1         1  \n",
       "2  much impact paid internship income diversity         2         2  \n",
       "3                           girl look first guy         3         3  \n",
       "4                     prepare final examination         4         4  "
      ]
     },
     "execution_count": 484,
     "metadata": {},
     "output_type": "execute_result"
    }
   ],
   "source": [
    "# suppressing warning message\n",
    "pd.set_option('mode.chained_assignment', None)\n",
    "\n",
    "# ID_text1, ID_text2 will be linked to text1 and text2\n",
    "# in order to create seperate Tagged Documents\n",
    "\n",
    "data['ID_text1']=0\n",
    "\n",
    "for index in range(len(data['text1'])):\n",
    "    data['ID_text1'][index]=index\n",
    "    \n",
    "data['ID_text2']=0\n",
    "\n",
    "for index in range(len(data['text2'])):\n",
    "    data['ID_text2'][index]=index\n",
    "    \n",
    "data.head()   "
   ]
  },
  {
   "cell_type": "code",
   "execution_count": 485,
   "metadata": {},
   "outputs": [],
   "source": [
    "# text1 and text2 must be split up into words along with their corresponding tags \n",
    "\n",
    "text_labeled = []\n",
    "\n",
    "for i in range(len(data['text1'])):\n",
    "    text_labeled.append(TaggedDocument(data['text1'][i].split(),data[data.index==i].ID_text1))\n",
    "    text_labeled.append(TaggedDocument(data['text2'][i].split(),data[data.index==i].ID_text2))"
   ]
  },
  {
   "cell_type": "code",
   "execution_count": 486,
   "metadata": {},
   "outputs": [],
   "source": [
    "# Creating a doc2vec model: the documents are analyzed by training a neural network\n",
    "\n",
    "# Here,\n",
    "# Vector_Size = Number of features (Dimensionality)\n",
    "# Min_count = Minimum frequency of a term\n",
    "# Alpha = learning rate\n",
    "# Window = The maximum distance between the current and predicted word within a sentence.\n",
    "# If dm=1, ‘distributed memory’ (PV-DM) is used\n",
    "\n",
    "model = Doc2Vec(dm = 1, min_count=1, window=2, vector_size=500, sample=1e-4, negative=10,workers=8)\n",
    "\n",
    "# Building a vocabulary of unique words\n",
    "\n",
    "model.build_vocab(text_labeled)"
   ]
  },
  {
   "cell_type": "code",
   "execution_count": 538,
   "metadata": {},
   "outputs": [
    {
     "name": "stdout",
     "output_type": "stream",
     "text": [
      "-> Tagged Documents Created Successfully!!!\n"
     ]
    },
    {
     "data": {
      "text/plain": [
       "[TaggedDocument(words=['want', 'travel'], tags=0    0\n",
       " Name: ID_text1, dtype: int64),\n",
       " TaggedDocument(words=['want', 'travel'], tags=0    0\n",
       " Name: ID_text2, dtype: int64),\n",
       " TaggedDocument(words=['whatspp', 'hack'], tags=1    1\n",
       " Name: ID_text1, dtype: int64),\n",
       " TaggedDocument(words=['awesome', 'WhatsApp', 'profile', 'picture'], tags=1    1\n",
       " Name: ID_text2, dtype: int64),\n",
       " TaggedDocument(words=['going', 'counseling', 'keep', 'joining', 'military'], tags=2    2\n",
       " Name: ID_text1, dtype: int64)]"
      ]
     },
     "execution_count": 538,
     "metadata": {},
     "output_type": "execute_result"
    }
   ],
   "source": [
    "print(\"-> Tagged Documents Created Successfully!!!\")\n",
    "text_labeled[0:5] # Check labels for first 5 documents"
   ]
  },
  {
   "cell_type": "code",
   "execution_count": 487,
   "metadata": {},
   "outputs": [
    {
     "name": "stdout",
     "output_type": "stream",
     "text": [
      "Epoch is 20.0 % complete\n",
      "Epoch is 40.0 % complete\n",
      "Epoch is 60.0 % complete\n",
      "Epoch is 80.0 % complete\n",
      "Epoch is 100.0 % complete\n"
     ]
    }
   ],
   "source": [
    "# Training the Model with 20 epoch iterations\n",
    "# I also tried with 50 epochs but results were almost the same \n",
    "# and it took twice the computing time\n",
    "\n",
    "for epoch in range(1,21): # 1 to 20\n",
    "    \n",
    "    model.train(text_labeled,epochs=model.iter,total_examples=model.corpus_count)\n",
    "    \n",
    "    if epoch%4==0: # Message will be printed 5 times instead of 20\n",
    "        print(\"Epoch is {} % complete\".format((epoch/20)*100))"
   ]
  },
  {
   "cell_type": "markdown",
   "metadata": {},
   "source": [
    "* The model has been trained successfully. Doc2vec is a document vectorization similar to word embedding but here the entire paragraph/sentence is used for similarity check. Doc2vec uses an unsupervised deep learning technique so, a labelled dataset isn't required."
   ]
  },
  {
   "cell_type": "markdown",
   "metadata": {},
   "source": [
    "# Determining Textual Similarity Scores"
   ]
  },
  {
   "cell_type": "code",
   "execution_count": 492,
   "metadata": {},
   "outputs": [],
   "source": [
    "# Splitting the sentences into seperate words\n",
    "# text1_split and text2_split will be used for similarity check\n",
    "\n",
    "text1_split = []\n",
    "\n",
    "for index in range(len(data['text1'])):\n",
    "    text1_split.append(data['text1'][index].split())\n",
    "\n",
    "# Checking for empty list; if yes then we'll have to remove it \n",
    "for empty_list in text1_split:\n",
    "    if empty_list==[]:\n",
    "        text1_split.remove(empty_list)    \n",
    "\n",
    "text2_split = []\n",
    "\n",
    "for index in range(len(data['text2'])):\n",
    "    text2_split.append(data['text2'][index].split())\n",
    "\n",
    "# Checking for empty list; if yes then we'll have to remove it \n",
    "for empty_list in text2_split:\n",
    "    if empty_list==[]:\n",
    "        text2_split.remove(empty_list)\n",
    "        \n",
    "# Appending the scores in a list\n",
    "similarity_score=[]\n",
    "\n",
    "for index in range(len(text1_split)):\n",
    "    score=model.n_similarity(text1_split[index],text2_split[index])\n",
    "    similarity_score.append(score)"
   ]
  },
  {
   "cell_type": "code",
   "execution_count": 513,
   "metadata": {},
   "outputs": [],
   "source": [
    "# Creating a new dataframe with similarity scores\n",
    "\n",
    "df = pd.DataFrame({'Similarity_Score':similarity_score})"
   ]
  },
  {
   "cell_type": "code",
   "execution_count": 530,
   "metadata": {},
   "outputs": [],
   "source": [
    "# Concating the original dataframe with the new dataframe\n",
    "\n",
    "final_df = pd.concat([data,df],sort=False,axis=1)\n",
    "final_df.drop(columns=['ID_text1','ID_text2'],axis=1,inplace=True)\n",
    "final_df.dropna(axis=0,inplace=True)\n",
    "final_df.rename(columns={'text1':'Cleaned_Question1','text2':'Cleaned_Question2'},inplace=True)"
   ]
  },
  {
   "cell_type": "markdown",
   "metadata": {},
   "source": [
    "# Final Model Check"
   ]
  },
  {
   "cell_type": "code",
   "execution_count": 544,
   "metadata": {},
   "outputs": [
    {
     "data": {
      "text/html": [
       "<div>\n",
       "<style scoped>\n",
       "    .dataframe tbody tr th:only-of-type {\n",
       "        vertical-align: middle;\n",
       "    }\n",
       "\n",
       "    .dataframe tbody tr th {\n",
       "        vertical-align: top;\n",
       "    }\n",
       "\n",
       "    .dataframe thead th {\n",
       "        text-align: right;\n",
       "    }\n",
       "</style>\n",
       "<table border=\"1\" class=\"dataframe\">\n",
       "  <thead>\n",
       "    <tr style=\"text-align: right;\">\n",
       "      <th></th>\n",
       "      <th>Cleaned_Question1</th>\n",
       "      <th>Cleaned_Question2</th>\n",
       "      <th>Similarity_Score</th>\n",
       "    </tr>\n",
       "  </thead>\n",
       "  <tbody>\n",
       "    <tr>\n",
       "      <td>0</td>\n",
       "      <td>want travel</td>\n",
       "      <td>want travel</td>\n",
       "      <td>1.000000</td>\n",
       "    </tr>\n",
       "    <tr>\n",
       "      <td>1</td>\n",
       "      <td>girl look guy</td>\n",
       "      <td>girl look first guy</td>\n",
       "      <td>0.900365</td>\n",
       "    </tr>\n",
       "    <tr>\n",
       "      <td>2</td>\n",
       "      <td>company provides best SEO service Delhi</td>\n",
       "      <td>best SEO Company Delhi Digital marketing</td>\n",
       "      <td>0.732901</td>\n",
       "    </tr>\n",
       "    <tr>\n",
       "      <td>3</td>\n",
       "      <td>people ask question Quora simply googled</td>\n",
       "      <td>people ask stupid question Quora easily answer...</td>\n",
       "      <td>0.894668</td>\n",
       "    </tr>\n",
       "    <tr>\n",
       "      <td>4</td>\n",
       "      <td>difference autism mentally retarded patient</td>\n",
       "      <td>difference autism ADHD</td>\n",
       "      <td>0.853592</td>\n",
       "    </tr>\n",
       "    <tr>\n",
       "      <td>5</td>\n",
       "      <td>block people ask stupid question Quora</td>\n",
       "      <td>ask stupid question Quora</td>\n",
       "      <td>0.928393</td>\n",
       "    </tr>\n",
       "    <tr>\n",
       "      <td>6</td>\n",
       "      <td>woman treated badly India</td>\n",
       "      <td>woman treated India</td>\n",
       "      <td>0.974896</td>\n",
       "    </tr>\n",
       "    <tr>\n",
       "      <td>7</td>\n",
       "      <td>easiest way make money online</td>\n",
       "      <td>best way make money online anyone tell easiest...</td>\n",
       "      <td>0.896855</td>\n",
       "    </tr>\n",
       "    <tr>\n",
       "      <td>8</td>\n",
       "      <td>good site download Marathi book</td>\n",
       "      <td>download free book Hindi novel</td>\n",
       "      <td>0.745371</td>\n",
       "    </tr>\n",
       "    <tr>\n",
       "      <td>9</td>\n",
       "      <td>low want get law school</td>\n",
       "      <td>low grade still get law school</td>\n",
       "      <td>0.840798</td>\n",
       "    </tr>\n",
       "  </tbody>\n",
       "</table>\n",
       "</div>"
      ],
      "text/plain": [
       "                             Cleaned_Question1  \\\n",
       "0                                  want travel   \n",
       "1                                girl look guy   \n",
       "2      company provides best SEO service Delhi   \n",
       "3     people ask question Quora simply googled   \n",
       "4  difference autism mentally retarded patient   \n",
       "5       block people ask stupid question Quora   \n",
       "6                    woman treated badly India   \n",
       "7                easiest way make money online   \n",
       "8              good site download Marathi book   \n",
       "9                      low want get law school   \n",
       "\n",
       "                                   Cleaned_Question2  Similarity_Score  \n",
       "0                                        want travel          1.000000  \n",
       "1                                girl look first guy          0.900365  \n",
       "2           best SEO Company Delhi Digital marketing          0.732901  \n",
       "3  people ask stupid question Quora easily answer...          0.894668  \n",
       "4                             difference autism ADHD          0.853592  \n",
       "5                          ask stupid question Quora          0.928393  \n",
       "6                                woman treated India          0.974896  \n",
       "7  best way make money online anyone tell easiest...          0.896855  \n",
       "8                     download free book Hindi novel          0.745371  \n",
       "9                     low grade still get law school          0.840798  "
      ]
     },
     "execution_count": 544,
     "metadata": {},
     "output_type": "execute_result"
    }
   ],
   "source": [
    "# Checking out 10 random questions with \"high textual similarity\"\n",
    "\n",
    "final_df[final_df['Similarity_Score']>0.7].reset_index(drop=True).head(10)"
   ]
  },
  {
   "cell_type": "code",
   "execution_count": 532,
   "metadata": {},
   "outputs": [],
   "source": [
    "# Exporting the csv file containing Unique_ID and Similarity scores\n",
    "\n",
    "Text_Similarity_df = final_df.drop(columns=['Cleaned_Question1','Cleaned_Question2'],axis=1)\n",
    "Text_Similarity_df.to_csv(r'C:\\Users\\Dell\\Desktop\\Text_Similarity_Scores.csv', index=False)"
   ]
  },
  {
   "cell_type": "markdown",
   "metadata": {},
   "source": [
    "Some \"Real world\" Applications of Semantic Textual Similarity are:-\n",
    "\n",
    "* Accurate Plagiarism testing by publication agencies/journals. \n",
    "* Question-Answer platforms like quora or reddit can check if the answer is copied from another user.\n",
    "* To check if the questions with same context have the same meaning.\n",
    "\n",
    "> This is a bonafide work of Aarush Gandhi"
   ]
  }
 ],
 "metadata": {
  "kernelspec": {
   "display_name": "Python 3",
   "language": "python",
   "name": "python3"
  },
  "language_info": {
   "codemirror_mode": {
    "name": "ipython",
    "version": 3
   },
   "file_extension": ".py",
   "mimetype": "text/x-python",
   "name": "python",
   "nbconvert_exporter": "python",
   "pygments_lexer": "ipython3",
   "version": "3.7.4"
  }
 },
 "nbformat": 4,
 "nbformat_minor": 2
}
